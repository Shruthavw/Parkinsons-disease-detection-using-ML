{
 "cells": [
  {
   "cell_type": "code",
   "execution_count": 1,
   "id": "60eba042",
   "metadata": {},
   "outputs": [],
   "source": [
    "import os\n",
    "import numpy as np\n",
    "import tensorflow"
   ]
  },
  {
   "cell_type": "code",
   "execution_count": 2,
   "id": "e472e2df",
   "metadata": {},
   "outputs": [],
   "source": [
    "from keras.preprocessing.image import ImageDataGenerator\n",
    "from keras.applications.mobilenet import MobileNet\n",
    "from keras.layers import GlobalAveragePooling2D, Dense\n",
    "from keras.models import Model\n",
    "from keras.optimizers import Adam"
   ]
  },
  {
   "cell_type": "markdown",
   "id": "c103b137",
   "metadata": {},
   "source": [
    "### Define the image size and batch size"
   ]
  },
  {
   "cell_type": "code",
   "execution_count": 3,
   "id": "9714f583",
   "metadata": {},
   "outputs": [],
   "source": [
    "image_size = 224\n",
    "batch_size = 8"
   ]
  },
  {
   "cell_type": "markdown",
   "id": "8e71b8bb",
   "metadata": {},
   "source": [
    "### Define the data directory"
   ]
  },
  {
   "cell_type": "code",
   "execution_count": 4,
   "id": "67c3b1de",
   "metadata": {},
   "outputs": [],
   "source": [
    "data_dir = \"Dataset\""
   ]
  },
  {
   "cell_type": "markdown",
   "id": "54f98378",
   "metadata": {},
   "source": [
    "### Create an ImageDataGenerator for data augmentation"
   ]
  },
  {
   "cell_type": "code",
   "execution_count": 5,
   "id": "2661dabb",
   "metadata": {},
   "outputs": [],
   "source": [
    "data_augmentation = ImageDataGenerator(\n",
    "    rescale=1./255,\n",
    "    rotation_range=30,\n",
    "    width_shift_range=0.1,\n",
    "    height_shift_range=0.1,\n",
    "    shear_range=0.2,\n",
    "    zoom_range=0.2,\n",
    "    horizontal_flip=True,\n",
    "    validation_split=0.2  # Split data into 80% training and 20% validation\n",
    ")"
   ]
  },
  {
   "cell_type": "markdown",
   "id": "d010e4d3",
   "metadata": {},
   "source": [
    "### Load the training data"
   ]
  },
  {
   "cell_type": "code",
   "execution_count": 6,
   "id": "4d0c5f70",
   "metadata": {},
   "outputs": [
    {
     "name": "stdout",
     "output_type": "stream",
     "text": [
      "Found 82 images belonging to 2 classes.\n"
     ]
    }
   ],
   "source": [
    "train_generator = data_augmentation.flow_from_directory(\n",
    "    data_dir,\n",
    "    target_size=(image_size, image_size),\n",
    "    batch_size=batch_size,\n",
    "    class_mode='categorical',\n",
    "    subset='training'\n",
    ")"
   ]
  },
  {
   "cell_type": "markdown",
   "id": "0e30e245",
   "metadata": {},
   "source": [
    "### Load the validation data"
   ]
  },
  {
   "cell_type": "code",
   "execution_count": 7,
   "id": "e0230e23",
   "metadata": {},
   "outputs": [
    {
     "name": "stdout",
     "output_type": "stream",
     "text": [
      "Found 20 images belonging to 2 classes.\n"
     ]
    }
   ],
   "source": [
    "validation_generator = data_augmentation.flow_from_directory(\n",
    "    data_dir,\n",
    "    target_size=(image_size, image_size),\n",
    "    batch_size=batch_size,\n",
    "    class_mode='categorical',\n",
    "    subset='validation'\n",
    ")"
   ]
  },
  {
   "cell_type": "markdown",
   "id": "42fb34dd",
   "metadata": {},
   "source": [
    "### Build the MobileNet CNN model"
   ]
  },
  {
   "cell_type": "code",
   "execution_count": 8,
   "id": "5464211c",
   "metadata": {},
   "outputs": [
    {
     "name": "stdout",
     "output_type": "stream",
     "text": [
      "Downloading data from https://storage.googleapis.com/tensorflow/keras-applications/mobilenet/mobilenet_1_0_224_tf_no_top.h5\n",
      "17227776/17225924 [==============================] - 288s 17us/step\n"
     ]
    }
   ],
   "source": [
    "base_model = MobileNet(input_shape=(image_size, image_size, 3), include_top=False, weights='imagenet')\n",
    "x = base_model.output\n",
    "x = GlobalAveragePooling2D()(x)\n",
    "x = Dense(128, activation='relu')(x)\n",
    "predictions = Dense(train_generator.num_classes, activation='softmax')(x)\n",
    "model = Model(inputs=base_model.input, outputs=predictions)"
   ]
  },
  {
   "cell_type": "markdown",
   "id": "fc731153",
   "metadata": {},
   "source": [
    "### Compile the model"
   ]
  },
  {
   "cell_type": "code",
   "execution_count": 9,
   "id": "7354f452",
   "metadata": {},
   "outputs": [],
   "source": [
    "optimizer = Adam(lr=0.001)\n",
    "model.compile(optimizer=optimizer, loss='categorical_crossentropy', metrics=['accuracy'])"
   ]
  },
  {
   "cell_type": "markdown",
   "id": "f3844481",
   "metadata": {},
   "source": [
    "### Train the model"
   ]
  },
  {
   "cell_type": "code",
   "execution_count": 11,
   "id": "c40bba18",
   "metadata": {},
   "outputs": [
    {
     "name": "stdout",
     "output_type": "stream",
     "text": [
      "Epoch 1/25\n",
      "10/10 [==============================] - 14s 1s/step - loss: 0.2875 - accuracy: 0.8919 - val_loss: 0.7732 - val_accuracy: 0.6875\n",
      "Epoch 2/25\n",
      "10/10 [==============================] - 14s 1s/step - loss: 0.4659 - accuracy: 0.8378 - val_loss: 1.3262 - val_accuracy: 0.5000\n",
      "Epoch 3/25\n",
      "10/10 [==============================] - 14s 1s/step - loss: 0.3372 - accuracy: 0.8649 - val_loss: 0.7036 - val_accuracy: 0.5625\n",
      "Epoch 4/25\n",
      "10/10 [==============================] - 14s 1s/step - loss: 0.2374 - accuracy: 0.8919 - val_loss: 1.9233 - val_accuracy: 0.5625\n",
      "Epoch 5/25\n",
      "10/10 [==============================] - 14s 1s/step - loss: 0.1436 - accuracy: 0.9324 - val_loss: 4.0754 - val_accuracy: 0.5625\n",
      "Epoch 6/25\n",
      "10/10 [==============================] - 14s 1s/step - loss: 0.2182 - accuracy: 0.9054 - val_loss: 2.6298 - val_accuracy: 0.6250\n",
      "Epoch 7/25\n",
      "10/10 [==============================] - 14s 1s/step - loss: 0.2375 - accuracy: 0.9189 - val_loss: 2.9513 - val_accuracy: 0.5625\n",
      "Epoch 8/25\n",
      "10/10 [==============================] - 14s 1s/step - loss: 0.1818 - accuracy: 0.9459 - val_loss: 1.8435 - val_accuracy: 0.4375\n",
      "Epoch 9/25\n",
      "10/10 [==============================] - 14s 1s/step - loss: 0.2302 - accuracy: 0.9054 - val_loss: 3.0592 - val_accuracy: 0.5625\n",
      "Epoch 10/25\n",
      "10/10 [==============================] - 14s 1s/step - loss: 0.1556 - accuracy: 0.9459 - val_loss: 3.2705 - val_accuracy: 0.6250\n",
      "Epoch 11/25\n",
      "10/10 [==============================] - 15s 1s/step - loss: 0.1249 - accuracy: 0.9250 - val_loss: 4.0737 - val_accuracy: 0.5000\n",
      "Epoch 12/25\n",
      "10/10 [==============================] - 13s 1s/step - loss: 0.2995 - accuracy: 0.9054 - val_loss: 3.1999 - val_accuracy: 0.6250\n",
      "Epoch 13/25\n",
      "10/10 [==============================] - 13s 1s/step - loss: 0.2153 - accuracy: 0.9324 - val_loss: 3.4369 - val_accuracy: 0.6250\n",
      "Epoch 14/25\n",
      "10/10 [==============================] - 14s 1s/step - loss: 0.2409 - accuracy: 0.9189 - val_loss: 1.5485 - val_accuracy: 0.5625\n",
      "Epoch 15/25\n",
      "10/10 [==============================] - 14s 1s/step - loss: 0.1681 - accuracy: 0.9189 - val_loss: 2.7115 - val_accuracy: 0.5625\n",
      "Epoch 16/25\n",
      "10/10 [==============================] - 14s 1s/step - loss: 0.1786 - accuracy: 0.9595 - val_loss: 2.6411 - val_accuracy: 0.6875\n",
      "Epoch 17/25\n",
      "10/10 [==============================] - 13s 1s/step - loss: 0.2976 - accuracy: 0.8378 - val_loss: 2.4413 - val_accuracy: 0.5625\n",
      "Epoch 18/25\n",
      "10/10 [==============================] - 13s 1s/step - loss: 0.2106 - accuracy: 0.9189 - val_loss: 3.2939 - val_accuracy: 0.5000\n",
      "Epoch 19/25\n",
      "10/10 [==============================] - 13s 1s/step - loss: 0.1855 - accuracy: 0.9054 - val_loss: 2.3474 - val_accuracy: 0.6250\n",
      "Epoch 20/25\n",
      "10/10 [==============================] - 14s 1s/step - loss: 0.2493 - accuracy: 0.9324 - val_loss: 1.5648 - val_accuracy: 0.6875\n",
      "Epoch 21/25\n",
      "10/10 [==============================] - 14s 1s/step - loss: 0.2618 - accuracy: 0.8919 - val_loss: 0.9774 - val_accuracy: 0.6250\n",
      "Epoch 22/25\n",
      "10/10 [==============================] - 13s 1s/step - loss: 0.1433 - accuracy: 0.9595 - val_loss: 0.7369 - val_accuracy: 0.6250\n",
      "Epoch 23/25\n",
      "10/10 [==============================] - 13s 1s/step - loss: 0.0705 - accuracy: 0.9730 - val_loss: 0.8087 - val_accuracy: 0.7500\n",
      "Epoch 24/25\n",
      "10/10 [==============================] - 14s 1s/step - loss: 0.0403 - accuracy: 0.9865 - val_loss: 1.6457 - val_accuracy: 0.6250\n",
      "Epoch 25/25\n",
      "10/10 [==============================] - 14s 1s/step - loss: 0.1920 - accuracy: 0.9595 - val_loss: 1.0797 - val_accuracy: 0.7500\n"
     ]
    },
    {
     "data": {
      "text/plain": [
       "<tensorflow.python.keras.callbacks.History at 0x23cd0341280>"
      ]
     },
     "execution_count": 11,
     "metadata": {},
     "output_type": "execute_result"
    }
   ],
   "source": [
    "epochs = 25  # You can increase the number of epochs for better accuracy\n",
    "model.fit(\n",
    "    train_generator,\n",
    "    steps_per_epoch=train_generator.samples // batch_size,\n",
    "    epochs=epochs,\n",
    "    validation_data=validation_generator,\n",
    "    validation_steps=validation_generator.samples // batch_size\n",
    ")"
   ]
  },
  {
   "cell_type": "markdown",
   "id": "2d88306d",
   "metadata": {},
   "source": [
    "### Save the model"
   ]
  },
  {
   "cell_type": "code",
   "execution_count": 12,
   "id": "ad5cc283",
   "metadata": {},
   "outputs": [],
   "source": [
    "model.save(\"keras_model.h5\")"
   ]
  },
  {
   "cell_type": "markdown",
   "id": "97b9d8b1",
   "metadata": {},
   "source": [
    "### Evaluate the model"
   ]
  },
  {
   "cell_type": "code",
   "execution_count": 13,
   "id": "a64cb273",
   "metadata": {},
   "outputs": [
    {
     "name": "stdout",
     "output_type": "stream",
     "text": [
      "2/2 [==============================] - 1s 263ms/step - loss: 1.3431 - accuracy: 0.7500\n",
      "Validation accuracy: 0.75\n"
     ]
    }
   ],
   "source": [
    "scores = model.evaluate(validation_generator, steps=validation_generator.samples // batch_size)\n",
    "print('Validation accuracy:', scores[1])"
   ]
  },
  {
   "cell_type": "markdown",
   "id": "32d31c8d",
   "metadata": {},
   "source": [
    "# THANK YOU!"
   ]
  }
 ],
 "metadata": {
  "kernelspec": {
   "display_name": "Python 3 (ipykernel)",
   "language": "python",
   "name": "python3"
  },
  "language_info": {
   "codemirror_mode": {
    "name": "ipython",
    "version": 3
   },
   "file_extension": ".py",
   "mimetype": "text/x-python",
   "name": "python",
   "nbconvert_exporter": "python",
   "pygments_lexer": "ipython3",
   "version": "3.8.0"
  }
 },
 "nbformat": 4,
 "nbformat_minor": 5
}
